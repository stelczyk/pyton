{
 "cells": [
  {
   "cell_type": "markdown",
   "id": "c7eba2ac6f361",
   "metadata": {},
   "source": [
    "## Zadanie\n",
    "Napisz funkcję `f3d(nr_indeksu)` zwracającą `w1` następująco:\n",
    "W stringu `s1` znajdź wszystkie liczby całkowite dodatnie w których nie ma cyfry `1` i w których znajduje się conajmniej jedna cyfra z Twojego `nr_indeksu`.\n",
    "Utwórz z nich listę `l1`.\n",
    "    \n",
    "(wszystkie znaki różne od cyfr są przerwami pomiędzy liczbami)\n",
    "    \n",
    "Z listy `l1` utwórz listę `l2` w której znajdą się wszystkie liczby większe od długości `l1`.\n",
    "Zwróć `w1` będące iloczynem Twojego `nr_indeksu` i `sum_13`, gdzie `sum_13` jest sumą `13` najmniejszych liczb z `l2`.\n",
    "\n",
    "przykład:\n",
    "```\n",
    "nr_indeksu, imie, nazwisko = 99003, 'Błażej', 'Kuś'\n",
    "s1: Hello World 123 svd vfv-45,4.2346 sa333\n",
    "l1: [2346, 333]\n",
    "l2: [333, 2346]\n",
    "w1: 265229037\n",
    "```"
   ]
  },
  {
   "cell_type": "code",
   "id": "dc39d271d1108ec3",
   "metadata": {
    "ExecuteTime": {
     "end_time": "2025-03-19T16:58:55.005954Z",
     "start_time": "2025-03-19T16:58:54.999936Z"
    }
   },
   "source": [
    "s1= \"Hello World 123 svd vfv-45,4.2346 sa333\"\n",
    "\n",
    "nr_indeksu, imie, nazwisko = 99003, 'Błażej', 'Kuś'\n",
    "\n",
    "def znajdz_liczby(s: str) -> list:\n",
    "\n",
    "    liczby = []\n",
    "    aktualna_liczba = \"\"\n",
    "\n",
    "    for znak in s:\n",
    "        if znak.isdigit():\n",
    "\n",
    "            aktualna_liczba += znak\n",
    "        else:\n",
    "\n",
    "            if aktualna_liczba:\n",
    "                liczby.append(aktualna_liczba)\n",
    "                aktualna_liczba = \"\"\n",
    "\n",
    "\n",
    "    if aktualna_liczba:\n",
    "        liczby.append(aktualna_liczba)\n",
    "\n",
    "    return liczby\n",
    "\n",
    "\n",
    "def f3d(nr_indeksu: int) -> int:\n",
    "    l1 = []\n",
    "    l2 = []\n",
    "    sum_13 = 0\n",
    "    w1 = 0\n",
    "    for liczba in znajdz_liczby(s1):\n",
    "        if \"1\" in liczba:\n",
    "            continue\n",
    "        if  not any(x in liczba for x in str(nr_indeksu)):\n",
    "            continue\n",
    "\n",
    "        val = int(liczba)\n",
    "        l1.append(val)\n",
    "    l2 = [x for x in l1 if x>len(l1)]\n",
    "    print(f'l2: {l2}')\n",
    "    l2.sort(reverse=True)\n",
    "    sum_13 = sum(l2[:13])\n",
    "    w1 = nr_indeksu*sum_13\n",
    "    print(f'l1: {l1}')\n",
    "\n",
    "    print(f'w1: {w1}')\n",
    "\n",
    "f3d(nr_indeksu)\n",
    "\n",
    "\n",
    "\n",
    "\n",
    "\n",
    "\n",
    "\n",
    "\n"
   ],
   "outputs": [
    {
     "name": "stdout",
     "output_type": "stream",
     "text": [
      "l2: [2346, 333]\n",
      "l1: [2346, 333]\n",
      "w1: 265229037\n"
     ]
    }
   ],
   "execution_count": 15
  },
  {
   "cell_type": "code",
   "id": "433f570e2b0d7b76",
   "metadata": {
    "ExecuteTime": {
     "end_time": "2025-03-19T16:49:56.192416Z",
     "start_time": "2025-03-19T16:49:56.172442Z"
    }
   },
   "source": [
    "print(f'lab3e___w1_{w1}.ipynb')"
   ],
   "outputs": [
    {
     "ename": "NameError",
     "evalue": "name 'w1' is not defined",
     "output_type": "error",
     "traceback": [
      "\u001B[31m---------------------------------------------------------------------------\u001B[39m",
      "\u001B[31mNameError\u001B[39m                                 Traceback (most recent call last)",
      "\u001B[36mCell\u001B[39m\u001B[36m \u001B[39m\u001B[32mIn[6]\u001B[39m\u001B[32m, line 1\u001B[39m\n\u001B[32m----> \u001B[39m\u001B[32m1\u001B[39m \u001B[38;5;28mprint\u001B[39m(\u001B[33mf\u001B[39m\u001B[33m'\u001B[39m\u001B[33mlab3e___w1_\u001B[39m\u001B[38;5;132;01m{\u001B[39;00m\u001B[43mw1\u001B[49m\u001B[38;5;132;01m}\u001B[39;00m\u001B[33m.ipynb\u001B[39m\u001B[33m'\u001B[39m)\n",
      "\u001B[31mNameError\u001B[39m: name 'w1' is not defined"
     ]
    }
   ],
   "execution_count": 6
  },
  {
   "metadata": {},
   "cell_type": "code",
   "outputs": [],
   "execution_count": null,
   "source": "",
   "id": "1d749817b588e33e"
  }
 ],
 "metadata": {
  "kernelspec": {
   "display_name": "Python 3 (ipykernel)",
   "language": "python",
   "name": "python3"
  },
  "language_info": {
   "codemirror_mode": {
    "name": "ipython",
    "version": 3
   },
   "file_extension": ".py",
   "mimetype": "text/x-python",
   "name": "python",
   "nbconvert_exporter": "python",
   "pygments_lexer": "ipython3",
   "version": "3.9.13"
  }
 },
 "nbformat": 4,
 "nbformat_minor": 5
}
