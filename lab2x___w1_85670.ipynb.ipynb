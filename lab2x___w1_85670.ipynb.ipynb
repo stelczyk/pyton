{
 "cells": [
  {
   "cell_type": "markdown",
   "id": "e999df4355d36e7a",
   "metadata": {
    "collapsed": false
   },
   "source": [
    "## Zadanie\n",
    "\n",
    "Utwórz string `s1` będący powtórzeniem Twojego imienia i nazwiska tyle razy ile wynosi reszta z dzielenia wartości Twojego numeru indeksu przez `99` (jeśli reszta wynosi `0`, to znajdź resztę z dzielenia przez `999`)  \n",
    "\n",
    "\n",
    "```\n",
    "przykład:\n",
    "nr_indeksu, imie, nazwisko = 99003, 'Błażej', 'Kuś'\n",
    "s1: BłażejKuśBłażejKuśBłażejKuś\n",
    "```\n",
    "\n",
    "Napisz funkcję `f1` przyjmującą jako argument `s1` i zwracającą dwie listy:\n",
    "`x` - lista zawierająca co trzecią literę z `s1` od początku\n",
    "`y` - lista zawierająca co trzecią literę z `s1` od końca\n",
    "\n",
    "uwaga: `(type(x): <class 'list'>)`, `(type(y): <class 'list'>)`\n",
    "\n",
    "\n",
    "```\n",
    "przykład:\n",
    "x: ['B', 'ż', 'K', 'B', 'ż', 'K', 'B', 'ż', 'K']\n",
    "y: ['ś', 'j', 'a', 'ś', 'j', 'a', 'ś', 'j', 'a']\n",
    "```\n",
    "\n",
    "Następnie utwórz listę `z` zawierającą elementy z `x` i `y` będące znakami ASCII (kod <= 127)\n",
    "\n",
    "**znajdź:**\n",
    "`w1`, będące sumą wszystkich znaków z listy `z` (sumą ich kodów) \n"
   ]
  },
  {
   "cell_type": "code",
   "execution_count": 26,
   "id": "53dd0de1283fdffb",
   "metadata": {
    "collapsed": false
   },
   "outputs": [
    {
     "name": "stdout",
     "output_type": "stream",
     "text": [
      "JakubStelmachJakubStelmachJakubStelmachJakubStelmachJakubStelmachJakubStelmachJakubStelmachJakubStelmachJakubStelmachJakubStelmachJakubStelmachJakubStelmachJakubStelmachJakubStelmachJakubStelmachJakubStelmachJakubStelmachJakubStelmachJakubStelmachJakubStelmachJakubStelmachJakubStelmachJakubStelmachJakubStelmachJakubStelmachJakubStelmachJakubStelmachJakubStelmachJakubStelmachJakubStelmachJakubStelmachJakubStelmachJakubStelmachJakubStelmachJakubStelmachJakubStelmachJakubStelmachJakubStelmachJakubStelmachJakubStelmachJakubStelmachJakubStelmachJakubStelmachJakubStelmachJakubStelmachJakubStelmachJakubStelmachJakubStelmachJakubStelmachJakubStelmachJakubStelmachJakubStelmachJakubStelmachJakubStelmachJakubStelmachJakubStelmachJakubStelmachJakubStelmachJakubStelmachJakubStelmachJakubStelmachJakubStelmachJakubStelmachJakubStelmachJakubStelmachJakubStelmachJakubStelmachJakubStelmachJakubStelmachJakubStelmachJakubStelmachJakubStelmachJakubStelmachJakubStelmachJakubStelmachJakubStelmachJakubStelmachJakubStelmachJakubStelmachJakubStelmachJakubStelmachJakubStelmachJakubStelmachJakubStelmachJakubStelmachJakubStelmachJakubStelmachJakubStelmachJakubStelmachJakubStelmachJakubStelmachJakubStelmachJakubStelmachJakubStelmachJakubStelmachJakubStelmachJakubStelmachJakubStelmach\n",
      "['J', 'u', 't', 'm', 'h', 'k', 'S', 'l', 'c', 'a', 'b', 'e', 'a', 'J', 'u', 't', 'm', 'h', 'k', 'S', 'l', 'c', 'a', 'b', 'e', 'a', 'J', 'u', 't', 'm', 'h', 'k', 'S', 'l', 'c', 'a', 'b', 'e', 'a', 'J', 'u', 't', 'm', 'h', 'k', 'S', 'l', 'c', 'a', 'b', 'e', 'a', 'J', 'u', 't', 'm', 'h', 'k', 'S', 'l', 'c', 'a', 'b', 'e', 'a', 'J', 'u', 't', 'm', 'h', 'k', 'S', 'l', 'c', 'a', 'b', 'e', 'a', 'J', 'u', 't', 'm', 'h', 'k', 'S', 'l', 'c', 'a', 'b', 'e', 'a', 'J', 'u', 't', 'm', 'h', 'k', 'S', 'l', 'c', 'a', 'b', 'e', 'a', 'J', 'u', 't', 'm', 'h', 'k', 'S', 'l', 'c', 'a', 'b', 'e', 'a', 'J', 'u', 't', 'm', 'h', 'k', 'S', 'l', 'c', 'a', 'b', 'e', 'a', 'J', 'u', 't', 'm', 'h', 'k', 'S', 'l', 'c', 'a', 'b', 'e', 'a', 'J', 'u', 't', 'm', 'h', 'k', 'S', 'l', 'c', 'a', 'b', 'e', 'a', 'J', 'u', 't', 'm', 'h', 'k', 'S', 'l', 'c', 'a', 'b', 'e', 'a', 'J', 'u', 't', 'm', 'h', 'k', 'S', 'l', 'c', 'a', 'b', 'e', 'a', 'J', 'u', 't', 'm', 'h', 'k', 'S', 'l', 'c', 'a', 'b', 'e', 'a', 'J', 'u', 't', 'm', 'h', 'k', 'S', 'l', 'c', 'a', 'b', 'e', 'a', 'J', 'u', 't', 'm', 'h', 'k', 'S', 'l', 'c', 'a', 'b', 'e', 'a', 'J', 'u', 't', 'm', 'h', 'k', 'S', 'l', 'c', 'a', 'b', 'e', 'a', 'J', 'u', 't', 'm', 'h', 'k', 'S', 'l', 'c', 'a', 'b', 'e', 'a', 'J', 'u', 't', 'm', 'h', 'k', 'S', 'l', 'c', 'a', 'b', 'e', 'a', 'J', 'u', 't', 'm', 'h', 'k', 'S', 'l', 'c', 'a', 'b', 'e', 'a', 'J', 'u', 't', 'm', 'h', 'k', 'S', 'l', 'c', 'a', 'b', 'e', 'a', 'J', 'u', 't', 'm', 'h', 'k', 'S', 'l', 'c', 'a', 'b', 'e', 'a', 'J', 'u', 't', 'm', 'h', 'k', 'S', 'l', 'c', 'a', 'b', 'e', 'a', 'J', 'u', 't', 'm', 'h', 'k', 'S', 'l', 'c', 'a', 'b', 'e', 'a', 'J', 'u', 't', 'm', 'h', 'k', 'S', 'l', 'c', 'a', 'b', 'e', 'a', 'J', 'u', 't', 'm', 'h', 'k', 'S', 'l', 'c', 'a', 'b', 'e', 'a', 'J', 'u', 't', 'm', 'h', 'k', 'S', 'l', 'c', 'a', 'b', 'e', 'a', 'J', 'u', 't', 'm', 'h', 'k', 'S', 'l', 'c', 'a', 'b', 'e', 'a', 'J', 'u', 't', 'm', 'h', 'k', 'S', 'l', 'c', 'a', 'b', 'e', 'a', 'J', 'u', 't', 'm', 'h', 'k', 'S', 'l', 'c', 'a', 'b', 'e', 'a', 'J', 'u', 't', 'm', 'h', 'k', 'S', 'l', 'c', 'a', 'b', 'e', 'a', 'J', 'u', 't', 'm', 'h', 'k', 'S', 'l', 'c']\n",
      "['h', 'm', 't', 'u', 'J', 'a', 'e', 'b', 'a', 'c', 'l', 'S', 'k', 'h', 'm', 't', 'u', 'J', 'a', 'e', 'b', 'a', 'c', 'l', 'S', 'k', 'h', 'm', 't', 'u', 'J', 'a', 'e', 'b', 'a', 'c', 'l', 'S', 'k', 'h', 'm', 't', 'u', 'J', 'a', 'e', 'b', 'a', 'c', 'l', 'S', 'k', 'h', 'm', 't', 'u', 'J', 'a', 'e', 'b', 'a', 'c', 'l', 'S', 'k', 'h', 'm', 't', 'u', 'J', 'a', 'e', 'b', 'a', 'c', 'l', 'S', 'k', 'h', 'm', 't', 'u', 'J', 'a', 'e', 'b', 'a', 'c', 'l', 'S', 'k', 'h', 'm', 't', 'u', 'J', 'a', 'e', 'b', 'a', 'c', 'l', 'S', 'k', 'h', 'm', 't', 'u', 'J', 'a', 'e', 'b', 'a', 'c', 'l', 'S', 'k', 'h', 'm', 't', 'u', 'J', 'a', 'e', 'b', 'a', 'c', 'l', 'S', 'k', 'h', 'm', 't', 'u', 'J', 'a', 'e', 'b', 'a', 'c', 'l', 'S', 'k', 'h', 'm', 't', 'u', 'J', 'a', 'e', 'b', 'a', 'c', 'l', 'S', 'k', 'h', 'm', 't', 'u', 'J', 'a', 'e', 'b', 'a', 'c', 'l', 'S', 'k', 'h', 'm', 't', 'u', 'J', 'a', 'e', 'b', 'a', 'c', 'l', 'S', 'k', 'h', 'm', 't', 'u', 'J', 'a', 'e', 'b', 'a', 'c', 'l', 'S', 'k', 'h', 'm', 't', 'u', 'J', 'a', 'e', 'b', 'a', 'c', 'l', 'S', 'k', 'h', 'm', 't', 'u', 'J', 'a', 'e', 'b', 'a', 'c', 'l', 'S', 'k', 'h', 'm', 't', 'u', 'J', 'a', 'e', 'b', 'a', 'c', 'l', 'S', 'k', 'h', 'm', 't', 'u', 'J', 'a', 'e', 'b', 'a', 'c', 'l', 'S', 'k', 'h', 'm', 't', 'u', 'J', 'a', 'e', 'b', 'a', 'c', 'l', 'S', 'k', 'h', 'm', 't', 'u', 'J', 'a', 'e', 'b', 'a', 'c', 'l', 'S', 'k', 'h', 'm', 't', 'u', 'J', 'a', 'e', 'b', 'a', 'c', 'l', 'S', 'k', 'h', 'm', 't', 'u', 'J', 'a', 'e', 'b', 'a', 'c', 'l', 'S', 'k', 'h', 'm', 't', 'u', 'J', 'a', 'e', 'b', 'a', 'c', 'l', 'S', 'k', 'h', 'm', 't', 'u', 'J', 'a', 'e', 'b', 'a', 'c', 'l', 'S', 'k', 'h', 'm', 't', 'u', 'J', 'a', 'e', 'b', 'a', 'c', 'l', 'S', 'k', 'h', 'm', 't', 'u', 'J', 'a', 'e', 'b', 'a', 'c', 'l', 'S', 'k', 'h', 'm', 't', 'u', 'J', 'a', 'e', 'b', 'a', 'c', 'l', 'S', 'k', 'h', 'm', 't', 'u', 'J', 'a', 'e', 'b', 'a', 'c', 'l', 'S', 'k', 'h', 'm', 't', 'u', 'J', 'a', 'e', 'b', 'a', 'c', 'l', 'S', 'k', 'h', 'm', 't', 'u', 'J', 'a', 'e', 'b', 'a', 'c', 'l', 'S', 'k', 'h', 'm', 't', 'u', 'J', 'a', 'e', 'b', 'a', 'c', 'l', 'S', 'k', 'h', 'm', 't', 'u', 'J', 'a', 'e', 'b', 'a']\n",
      "85670\n"
     ]
    }
   ],
   "source": [
    "# Podmień wartości poniższych zmiennych na Twoje personalia.\n",
    "# Imie i Nazwisko proszę pisać z polskimi literami i zaczynać od dużej litery.\n",
    "nr_indeksu, imie, nazwisko = 155231, 'Jakub', 'Stelmach'\n",
    "\n",
    "n = nr_indeksu % 99\n",
    "\n",
    "s1 = ''.join([imie,nazwisko]*n)\n",
    "print(s1)\n",
    "\n",
    "dlugosc = len(s1)\n",
    "\n",
    "def funkcja1(text):\n",
    "    x = [i for i in s1[::3]]\n",
    "    y = [i for i in s1[::-1][::3]]\n",
    "    return x,y\n",
    "\n",
    "x, y = funkcja1(s1)\n",
    "print(x)\n",
    "print(y)\n",
    "\n",
    "\n",
    "z = [i for i in x + y if ord(i)<=127]\n",
    "\n",
    "\n",
    "w1 = 0\n",
    "\n",
    "for i in z:\n",
    "    w1  += ord(i)\n",
    "\n",
    "print(w1)\n",
    "\n",
    "\n",
    "\n",
    "\n",
    "\n",
    "# YOUR CODE HERE"
   ]
  },
  {
   "cell_type": "code",
   "execution_count": null,
   "id": "433f570e2b0d7b76",
   "metadata": {
    "collapsed": false
   },
   "outputs": [],
   "source": [
    "# przykład generowania zwracaanej nazwy tego notebooka\n",
    "# zamiast 999 wpisz obliczone przez Ciebie wartości\n",
    "\n",
    "w1 = 85670\n",
    "\n",
    "nazwa_notebooka = f'lab2x___w1_{w1}.ipynb'\n",
    "print(f'nazwa_notebooka: {nazwa_notebooka}')"
   ]
  }
 ],
 "metadata": {
  "kernelspec": {
   "display_name": "Python 3",
   "language": "python",
   "name": "python3"
  },
  "language_info": {
   "codemirror_mode": {
    "name": "ipython",
    "version": 3
   },
   "file_extension": ".py",
   "mimetype": "text/x-python",
   "name": "python",
   "nbconvert_exporter": "python",
   "pygments_lexer": "ipython3",
   "version": "3.12.4"
  }
 },
 "nbformat": 4,
 "nbformat_minor": 5
}
